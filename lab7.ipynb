{
 "cells": [
  {
   "cell_type": "markdown",
   "id": "d104cf28",
   "metadata": {},
   "source": [
    "Walter Saldaña #19897\n",
    "\n",
    "# Laboratorio 7: La Ciencia de Datos en Autopiloto"
   ]
  },
  {
   "cell_type": "markdown",
   "id": "f42ab1fc",
   "metadata": {},
   "source": [
    "Importar librerías"
   ]
  },
  {
   "cell_type": "code",
   "execution_count": 39,
   "id": "dbbe370f",
   "metadata": {},
   "outputs": [
    {
     "name": "stdout",
     "output_type": "stream",
     "text": [
      "Defaulting to user installation because normal site-packages is not writeable\n",
      "Requirement already satisfied: autogluon in /home/walt/.local/lib/python3.9/site-packages (0.5.2)\n",
      "Requirement already satisfied: autogluon.vision==0.5.2 in /home/walt/.local/lib/python3.9/site-packages (from autogluon) (0.5.2)\n",
      "Requirement already satisfied: autogluon.core[all]==0.5.2 in /home/walt/.local/lib/python3.9/site-packages (from autogluon) (0.5.2)\n",
      "Requirement already satisfied: autogluon.timeseries[all]==0.5.2 in /home/walt/.local/lib/python3.9/site-packages (from autogluon) (0.5.2)\n",
      "Requirement already satisfied: autogluon.multimodal==0.5.2 in /home/walt/.local/lib/python3.9/site-packages (from autogluon) (0.5.2)\n",
      "Requirement already satisfied: autogluon.tabular[all]==0.5.2 in /home/walt/.local/lib/python3.9/site-packages (from autogluon) (0.5.2)\n",
      "Requirement already satisfied: autogluon.features==0.5.2 in /home/walt/.local/lib/python3.9/site-packages (from autogluon) (0.5.2)\n",
      "Requirement already satisfied: autogluon.text==0.5.2 in /home/walt/.local/lib/python3.9/site-packages (from autogluon) (0.5.2)\n",
      "Requirement already satisfied: boto3 in /home/walt/.local/lib/python3.9/site-packages (from autogluon.core[all]==0.5.2->autogluon) (1.24.89)\n",
      "Requirement already satisfied: tqdm>=4.38.0 in /home/walt/.local/lib/python3.9/site-packages (from autogluon.core[all]==0.5.2->autogluon) (4.64.0)\n",
      "Requirement already satisfied: pandas!=1.4.0,<1.5,>=1.2.5 in /home/walt/.local/lib/python3.9/site-packages (from autogluon.core[all]==0.5.2->autogluon) (1.4.4)\n",
      "Requirement already satisfied: dask<=2021.11.2,>=2021.09.1 in /home/walt/.local/lib/python3.9/site-packages (from autogluon.core[all]==0.5.2->autogluon) (2021.11.2)\n",
      "Requirement already satisfied: numpy<1.23,>=1.21 in /home/walt/.local/lib/python3.9/site-packages (from autogluon.core[all]==0.5.2->autogluon) (1.21.6)\n",
      "Requirement already satisfied: requests in /usr/lib/python3/dist-packages (from autogluon.core[all]==0.5.2->autogluon) (2.22.0)\n",
      "Requirement already satisfied: matplotlib in /home/walt/.local/lib/python3.9/site-packages (from autogluon.core[all]==0.5.2->autogluon) (3.5.1)\n",
      "Requirement already satisfied: autogluon.common==0.5.2 in /home/walt/.local/lib/python3.9/site-packages (from autogluon.core[all]==0.5.2->autogluon) (0.5.2)\n",
      "Requirement already satisfied: scipy<1.8.0,>=1.5.4 in /home/walt/.local/lib/python3.9/site-packages (from autogluon.core[all]==0.5.2->autogluon) (1.7.3)\n",
      "Requirement already satisfied: distributed<=2021.11.2,>=2021.09.1 in /home/walt/.local/lib/python3.9/site-packages (from autogluon.core[all]==0.5.2->autogluon) (2021.11.2)\n",
      "Requirement already satisfied: scikit-learn<1.1,>=1.0.0 in /home/walt/.local/lib/python3.9/site-packages (from autogluon.core[all]==0.5.2->autogluon) (1.0.2)\n",
      "Requirement already satisfied: hyperopt<0.2.8,>=0.2.7 in /home/walt/.local/lib/python3.9/site-packages (from autogluon.core[all]==0.5.2->autogluon) (0.2.7)\n",
      "Requirement already satisfied: ray<1.14,>=1.13 in /home/walt/.local/lib/python3.9/site-packages (from autogluon.core[all]==0.5.2->autogluon) (1.13.0)\n",
      "Requirement already satisfied: psutil<6,>=5.7.3 in /home/walt/.local/lib/python3.9/site-packages (from autogluon.features==0.5.2->autogluon) (5.8.0)\n",
      "Requirement already satisfied: protobuf<=3.18.1 in /home/walt/.local/lib/python3.9/site-packages (from autogluon.multimodal==0.5.2->autogluon) (3.18.1)\n",
      "Requirement already satisfied: timm<0.6.0 in /home/walt/.local/lib/python3.9/site-packages (from autogluon.multimodal==0.5.2->autogluon) (0.5.4)\n",
      "Requirement already satisfied: omegaconf<2.2.0,>=2.1.1 in /home/walt/.local/lib/python3.9/site-packages (from autogluon.multimodal==0.5.2->autogluon) (2.1.2)\n",
      "Requirement already satisfied: nlpaug<=1.1.10,>=1.1.10 in /home/walt/.local/lib/python3.9/site-packages (from autogluon.multimodal==0.5.2->autogluon) (1.1.10)\n",
      "Requirement already satisfied: scikit-image<0.20.0,>=0.19.1 in /home/walt/.local/lib/python3.9/site-packages (from autogluon.multimodal==0.5.2->autogluon) (0.19.3)\n",
      "Requirement already satisfied: smart-open<5.3.0,>=5.2.1 in /home/walt/.local/lib/python3.9/site-packages (from autogluon.multimodal==0.5.2->autogluon) (5.2.1)\n",
      "Requirement already satisfied: torchvision<0.14.0 in /home/walt/.local/lib/python3.9/site-packages (from autogluon.multimodal==0.5.2->autogluon) (0.13.1)\n",
      "Requirement already satisfied: pytorch-lightning<1.7.0,>=1.6.0 in /home/walt/.local/lib/python3.9/site-packages (from autogluon.multimodal==0.5.2->autogluon) (1.6.5)\n",
      "Requirement already satisfied: torch<1.13,>=1.9 in /home/walt/.local/lib/python3.9/site-packages (from autogluon.multimodal==0.5.2->autogluon) (1.12.1)\n",
      "Requirement already satisfied: sentencepiece<0.2.0,>=0.1.95 in /home/walt/.local/lib/python3.9/site-packages (from autogluon.multimodal==0.5.2->autogluon) (0.1.95)\n",
      "Requirement already satisfied: nptyping<1.5.0,>=1.4.4 in /home/walt/.local/lib/python3.9/site-packages (from autogluon.multimodal==0.5.2->autogluon) (1.4.4)\n",
      "Requirement already satisfied: torchmetrics<0.8.0,>=0.7.2 in /home/walt/.local/lib/python3.9/site-packages (from autogluon.multimodal==0.5.2->autogluon) (0.7.3)\n",
      "Requirement already satisfied: torchtext<0.14.0 in /home/walt/.local/lib/python3.9/site-packages (from autogluon.multimodal==0.5.2->autogluon) (0.13.1)\n",
      "Requirement already satisfied: transformers<4.21.0,>=4.18.0 in /home/walt/.local/lib/python3.9/site-packages (from autogluon.multimodal==0.5.2->autogluon) (4.20.1)\n",
      "Requirement already satisfied: Pillow<9.1.0,>=9.0.1 in /home/walt/.local/lib/python3.9/site-packages (from autogluon.multimodal==0.5.2->autogluon) (9.0.1)\n",
      "Requirement already satisfied: fairscale<=0.4.6,>=0.4.5 in /home/walt/.local/lib/python3.9/site-packages (from autogluon.multimodal==0.5.2->autogluon) (0.4.6)\n",
      "Requirement already satisfied: pytorch-metric-learning<1.4.0,>=1.3.0 in /home/walt/.local/lib/python3.9/site-packages (from autogluon.multimodal==0.5.2->autogluon) (1.3.2)\n",
      "Requirement already satisfied: nltk<4.0.0,>=3.4.5 in /home/walt/.local/lib/python3.9/site-packages (from autogluon.multimodal==0.5.2->autogluon) (3.7)\n",
      "Requirement already satisfied: networkx<3.0,>=2.3 in /home/walt/.local/lib/python3.9/site-packages (from autogluon.tabular[all]==0.5.2->autogluon) (2.6.3)\n",
      "Requirement already satisfied: fastai<2.8,>=2.3.1 in /home/walt/.local/lib/python3.9/site-packages (from autogluon.tabular[all]==0.5.2->autogluon) (2.7.9)\n",
      "Requirement already satisfied: catboost<1.1,>=1.0 in /home/walt/.local/lib/python3.9/site-packages (from autogluon.tabular[all]==0.5.2->autogluon) (1.0.6)\n",
      "Requirement already satisfied: xgboost<1.5,>=1.4 in /home/walt/.local/lib/python3.9/site-packages (from autogluon.tabular[all]==0.5.2->autogluon) (1.4.2)\n",
      "Requirement already satisfied: lightgbm<3.4,>=3.3 in /home/walt/.local/lib/python3.9/site-packages (from autogluon.tabular[all]==0.5.2->autogluon) (3.3.2)\n",
      "Requirement already satisfied: autogluon-contrib-nlp==0.0.1b20220208 in /home/walt/.local/lib/python3.9/site-packages (from autogluon.text==0.5.2->autogluon) (0.0.1b20220208)\n",
      "Requirement already satisfied: gluonts<0.10.0,>=0.8.0 in /home/walt/.local/lib/python3.9/site-packages (from autogluon.timeseries[all]==0.5.2->autogluon) (0.9.9)\n",
      "Requirement already satisfied: pmdarima~=1.8.2 in /home/walt/.local/lib/python3.9/site-packages (from autogluon.timeseries[all]==0.5.2->autogluon) (1.8.5)\n",
      "Requirement already satisfied: sktime~=0.11.4 in /home/walt/.local/lib/python3.9/site-packages (from autogluon.timeseries[all]==0.5.2->autogluon) (0.11.4)\n",
      "Requirement already satisfied: tbats~=1.1 in /home/walt/.local/lib/python3.9/site-packages (from autogluon.timeseries[all]==0.5.2->autogluon) (1.1.1)\n",
      "Requirement already satisfied: gluoncv<0.10.6,>=0.10.5 in /home/walt/.local/lib/python3.9/site-packages (from autogluon.vision==0.5.2->autogluon) (0.10.5.post0)\n",
      "Requirement already satisfied: regex in /home/walt/.local/lib/python3.9/site-packages (from autogluon-contrib-nlp==0.0.1b20220208->autogluon.text==0.5.2->autogluon) (2022.9.13)\n",
      "Requirement already satisfied: contextvars in /home/walt/.local/lib/python3.9/site-packages (from autogluon-contrib-nlp==0.0.1b20220208->autogluon.text==0.5.2->autogluon) (2.4)\n",
      "Requirement already satisfied: yacs>=0.1.6 in /home/walt/.local/lib/python3.9/site-packages (from autogluon-contrib-nlp==0.0.1b20220208->autogluon.text==0.5.2->autogluon) (0.1.8)\n",
      "Requirement already satisfied: sacrebleu in /home/walt/.local/lib/python3.9/site-packages (from autogluon-contrib-nlp==0.0.1b20220208->autogluon.text==0.5.2->autogluon) (2.2.1)\n",
      "Requirement already satisfied: flake8 in /home/walt/.local/lib/python3.9/site-packages (from autogluon-contrib-nlp==0.0.1b20220208->autogluon.text==0.5.2->autogluon) (5.0.4)\n",
      "Requirement already satisfied: pyarrow in /home/walt/.local/lib/python3.9/site-packages (from autogluon-contrib-nlp==0.0.1b20220208->autogluon.text==0.5.2->autogluon) (9.0.0)\n",
      "Requirement already satisfied: tokenizers>=0.9.4 in /home/walt/.local/lib/python3.9/site-packages (from autogluon-contrib-nlp==0.0.1b20220208->autogluon.text==0.5.2->autogluon) (0.12.1)\n",
      "Requirement already satisfied: sacremoses>=0.0.38 in /home/walt/.local/lib/python3.9/site-packages (from autogluon-contrib-nlp==0.0.1b20220208->autogluon.text==0.5.2->autogluon) (0.0.53)\n",
      "Requirement already satisfied: six in /usr/lib/python3/dist-packages (from catboost<1.1,>=1.0->autogluon.tabular[all]==0.5.2->autogluon) (1.14.0)\n",
      "Requirement already satisfied: graphviz in /home/walt/.local/lib/python3.9/site-packages (from catboost<1.1,>=1.0->autogluon.tabular[all]==0.5.2->autogluon) (0.20.1)\n",
      "Requirement already satisfied: plotly in /home/walt/.local/lib/python3.9/site-packages (from catboost<1.1,>=1.0->autogluon.tabular[all]==0.5.2->autogluon) (5.10.0)\n",
      "Requirement already satisfied: cloudpickle>=1.1.1 in /home/walt/.local/lib/python3.9/site-packages (from dask<=2021.11.2,>=2021.09.1->autogluon.core[all]==0.5.2->autogluon) (2.2.0)\n",
      "Requirement already satisfied: toolz>=0.8.2 in /home/walt/.local/lib/python3.9/site-packages (from dask<=2021.11.2,>=2021.09.1->autogluon.core[all]==0.5.2->autogluon) (0.12.0)\n",
      "Requirement already satisfied: partd>=0.3.10 in /home/walt/.local/lib/python3.9/site-packages (from dask<=2021.11.2,>=2021.09.1->autogluon.core[all]==0.5.2->autogluon) (1.3.0)\n",
      "Requirement already satisfied: fsspec>=0.6.0 in /home/walt/.local/lib/python3.9/site-packages (from dask<=2021.11.2,>=2021.09.1->autogluon.core[all]==0.5.2->autogluon) (2022.8.2)\n",
      "Requirement already satisfied: packaging>=20.0 in /home/walt/.local/lib/python3.9/site-packages (from dask<=2021.11.2,>=2021.09.1->autogluon.core[all]==0.5.2->autogluon) (21.3)\n",
      "Requirement already satisfied: pyyaml in /home/walt/.local/lib/python3.9/site-packages (from dask<=2021.11.2,>=2021.09.1->autogluon.core[all]==0.5.2->autogluon) (6.0)\n"
     ]
    },
    {
     "name": "stdout",
     "output_type": "stream",
     "text": [
      "Requirement already satisfied: setuptools in /usr/lib/python3/dist-packages (from distributed<=2021.11.2,>=2021.09.1->autogluon.core[all]==0.5.2->autogluon) (45.2.0)\n",
      "Requirement already satisfied: msgpack>=0.6.0 in /home/walt/.local/lib/python3.9/site-packages (from distributed<=2021.11.2,>=2021.09.1->autogluon.core[all]==0.5.2->autogluon) (1.0.4)\n",
      "Requirement already satisfied: tblib>=1.6.0 in /home/walt/.local/lib/python3.9/site-packages (from distributed<=2021.11.2,>=2021.09.1->autogluon.core[all]==0.5.2->autogluon) (1.7.0)\n",
      "Requirement already satisfied: click>=6.6 in /home/walt/.local/lib/python3.9/site-packages (from distributed<=2021.11.2,>=2021.09.1->autogluon.core[all]==0.5.2->autogluon) (8.0.3)\n",
      "Requirement already satisfied: tornado>=6.0.3 in /home/walt/.local/lib/python3.9/site-packages (from distributed<=2021.11.2,>=2021.09.1->autogluon.core[all]==0.5.2->autogluon) (6.1)\n",
      "Requirement already satisfied: zict>=0.1.3 in /home/walt/.local/lib/python3.9/site-packages (from distributed<=2021.11.2,>=2021.09.1->autogluon.core[all]==0.5.2->autogluon) (2.2.0)\n",
      "Requirement already satisfied: sortedcontainers!=2.0.0,!=2.0.1 in /home/walt/.local/lib/python3.9/site-packages (from distributed<=2021.11.2,>=2021.09.1->autogluon.core[all]==0.5.2->autogluon) (2.4.0)\n",
      "Requirement already satisfied: jinja2 in /home/walt/.local/lib/python3.9/site-packages (from distributed<=2021.11.2,>=2021.09.1->autogluon.core[all]==0.5.2->autogluon) (3.0.3)\n",
      "Requirement already satisfied: fastprogress>=0.2.4 in /home/walt/.local/lib/python3.9/site-packages (from fastai<2.8,>=2.3.1->autogluon.tabular[all]==0.5.2->autogluon) (1.0.3)\n",
      "Requirement already satisfied: pip in /home/walt/.local/lib/python3.9/site-packages (from fastai<2.8,>=2.3.1->autogluon.tabular[all]==0.5.2->autogluon) (22.0.3)\n",
      "Requirement already satisfied: fastdownload<2,>=0.0.5 in /home/walt/.local/lib/python3.9/site-packages (from fastai<2.8,>=2.3.1->autogluon.tabular[all]==0.5.2->autogluon) (0.0.7)\n",
      "Requirement already satisfied: fastcore<1.6,>=1.4.5 in /home/walt/.local/lib/python3.9/site-packages (from fastai<2.8,>=2.3.1->autogluon.tabular[all]==0.5.2->autogluon) (1.5.27)\n",
      "Requirement already satisfied: spacy<4 in /home/walt/.local/lib/python3.9/site-packages (from fastai<2.8,>=2.3.1->autogluon.tabular[all]==0.5.2->autogluon) (3.4.1)\n",
      "Requirement already satisfied: opencv-python in /home/walt/.local/lib/python3.9/site-packages (from gluoncv<0.10.6,>=0.10.5->autogluon.vision==0.5.2->autogluon) (4.6.0.66)\n",
      "Requirement already satisfied: autocfg in /home/walt/.local/lib/python3.9/site-packages (from gluoncv<0.10.6,>=0.10.5->autogluon.vision==0.5.2->autogluon) (0.0.8)\n",
      "Requirement already satisfied: portalocker in /home/walt/.local/lib/python3.9/site-packages (from gluoncv<0.10.6,>=0.10.5->autogluon.vision==0.5.2->autogluon) (2.5.1)\n",
      "Requirement already satisfied: pydantic~=1.1 in /home/walt/.local/lib/python3.9/site-packages (from gluonts<0.10.0,>=0.8.0->autogluon.timeseries[all]==0.5.2->autogluon) (1.9.2)\n",
      "Requirement already satisfied: holidays>=0.9 in /home/walt/.local/lib/python3.9/site-packages (from gluonts<0.10.0,>=0.8.0->autogluon.timeseries[all]==0.5.2->autogluon) (0.14.2)\n",
      "Requirement already satisfied: typing-extensions~=4.0 in /home/walt/.local/lib/python3.9/site-packages (from gluonts<0.10.0,>=0.8.0->autogluon.timeseries[all]==0.5.2->autogluon) (4.4.0)\n",
      "Requirement already satisfied: future in /usr/lib/python3/dist-packages (from hyperopt<0.2.8,>=0.2.7->autogluon.core[all]==0.5.2->autogluon) (0.18.2)\n",
      "Requirement already satisfied: py4j in /home/walt/.local/lib/python3.9/site-packages (from hyperopt<0.2.8,>=0.2.7->autogluon.core[all]==0.5.2->autogluon) (0.10.9.7)\n",
      "Requirement already satisfied: wheel in /home/walt/.local/lib/python3.9/site-packages (from lightgbm<3.4,>=3.3->autogluon.tabular[all]==0.5.2->autogluon) (0.37.1)\n",
      "Requirement already satisfied: kiwisolver>=1.0.1 in /home/walt/.local/lib/python3.9/site-packages (from matplotlib->autogluon.core[all]==0.5.2->autogluon) (1.3.2)\n",
      "Requirement already satisfied: cycler>=0.10 in /home/walt/.local/lib/python3.9/site-packages (from matplotlib->autogluon.core[all]==0.5.2->autogluon) (0.11.0)\n",
      "Requirement already satisfied: fonttools>=4.22.0 in /home/walt/.local/lib/python3.9/site-packages (from matplotlib->autogluon.core[all]==0.5.2->autogluon) (4.29.1)\n",
      "Requirement already satisfied: python-dateutil>=2.7 in /home/walt/.local/lib/python3.9/site-packages (from matplotlib->autogluon.core[all]==0.5.2->autogluon) (2.8.2)\n",
      "Requirement already satisfied: pyparsing>=2.2.1 in /home/walt/.local/lib/python3.9/site-packages (from matplotlib->autogluon.core[all]==0.5.2->autogluon) (3.0.7)\n",
      "Requirement already satisfied: joblib in /home/walt/.local/lib/python3.9/site-packages (from nltk<4.0.0,>=3.4.5->autogluon.multimodal==0.5.2->autogluon) (1.1.0)\n",
      "Requirement already satisfied: typish>=1.7.0 in /home/walt/.local/lib/python3.9/site-packages (from nptyping<1.5.0,>=1.4.4->autogluon.multimodal==0.5.2->autogluon) (1.9.3)\n",
      "Requirement already satisfied: antlr4-python3-runtime==4.8 in /home/walt/.local/lib/python3.9/site-packages (from omegaconf<2.2.0,>=2.1.1->autogluon.multimodal==0.5.2->autogluon) (4.8)\n",
      "Requirement already satisfied: pytz>=2020.1 in /home/walt/.local/lib/python3.9/site-packages (from pandas!=1.4.0,<1.5,>=1.2.5->autogluon.core[all]==0.5.2->autogluon) (2021.3)\n",
      "Requirement already satisfied: urllib3 in /usr/lib/python3/dist-packages (from pmdarima~=1.8.2->autogluon.timeseries[all]==0.5.2->autogluon) (1.25.8)\n",
      "Requirement already satisfied: statsmodels!=0.12.0,>=0.11 in /home/walt/.local/lib/python3.9/site-packages (from pmdarima~=1.8.2->autogluon.timeseries[all]==0.5.2->autogluon) (0.13.2)\n",
      "Requirement already satisfied: Cython!=0.29.18,>=0.29 in /home/walt/.local/lib/python3.9/site-packages (from pmdarima~=1.8.2->autogluon.timeseries[all]==0.5.2->autogluon) (0.29.32)\n",
      "Requirement already satisfied: tensorboard>=2.2.0 in /home/walt/.local/lib/python3.9/site-packages (from pytorch-lightning<1.7.0,>=1.6.0->autogluon.multimodal==0.5.2->autogluon) (2.9.1)\n",
      "Requirement already satisfied: pyDeprecate>=0.3.1 in /home/walt/.local/lib/python3.9/site-packages (from pytorch-lightning<1.7.0,>=1.6.0->autogluon.multimodal==0.5.2->autogluon) (0.3.2)\n",
      "Requirement already satisfied: attrs in /usr/lib/python3/dist-packages (from ray<1.14,>=1.13->autogluon.core[all]==0.5.2->autogluon) (19.3.0)\n",
      "Requirement already satisfied: jsonschema in /usr/lib/python3/dist-packages (from ray<1.14,>=1.13->autogluon.core[all]==0.5.2->autogluon) (3.2.0)\n",
      "Requirement already satisfied: frozenlist in /home/walt/.local/lib/python3.9/site-packages (from ray<1.14,>=1.13->autogluon.core[all]==0.5.2->autogluon) (1.3.1)\n",
      "Requirement already satisfied: grpcio<=1.43.0,>=1.28.1 in /home/walt/.local/lib/python3.9/site-packages (from ray<1.14,>=1.13->autogluon.core[all]==0.5.2->autogluon) (1.43.0)\n",
      "Requirement already satisfied: aiosignal in /home/walt/.local/lib/python3.9/site-packages (from ray<1.14,>=1.13->autogluon.core[all]==0.5.2->autogluon) (1.2.0)\n",
      "Requirement already satisfied: virtualenv in /home/walt/.local/lib/python3.9/site-packages (from ray<1.14,>=1.13->autogluon.core[all]==0.5.2->autogluon) (20.16.5)\n",
      "Requirement already satisfied: filelock in /home/walt/.local/lib/python3.9/site-packages (from ray<1.14,>=1.13->autogluon.core[all]==0.5.2->autogluon) (3.8.0)\n",
      "Requirement already satisfied: tabulate in /home/walt/.local/lib/python3.9/site-packages (from ray<1.14,>=1.13->autogluon.core[all]==0.5.2->autogluon) (0.9.0)\n",
      "Requirement already satisfied: tensorboardX>=1.9 in /home/walt/.local/lib/python3.9/site-packages (from ray<1.14,>=1.13->autogluon.core[all]==0.5.2->autogluon) (2.5.1)\n",
      "Requirement already satisfied: PyWavelets>=1.1.1 in /home/walt/.local/lib/python3.9/site-packages (from scikit-image<0.20.0,>=0.19.1->autogluon.multimodal==0.5.2->autogluon) (1.4.1)\n",
      "Requirement already satisfied: imageio>=2.4.1 in /home/walt/.local/lib/python3.9/site-packages (from scikit-image<0.20.0,>=0.19.1->autogluon.multimodal==0.5.2->autogluon) (2.22.1)\n",
      "Requirement already satisfied: tifffile>=2019.7.26 in /home/walt/.local/lib/python3.9/site-packages (from scikit-image<0.20.0,>=0.19.1->autogluon.multimodal==0.5.2->autogluon) (2022.8.12)\n"
     ]
    },
    {
     "name": "stdout",
     "output_type": "stream",
     "text": [
      "Requirement already satisfied: threadpoolctl>=2.0.0 in /home/walt/.local/lib/python3.9/site-packages (from scikit-learn<1.1,>=1.0.0->autogluon.core[all]==0.5.2->autogluon) (3.1.0)\n",
      "Requirement already satisfied: numba>=0.53 in /home/walt/.local/lib/python3.9/site-packages (from sktime~=0.11.4->autogluon.timeseries[all]==0.5.2->autogluon) (0.56.0)\n",
      "Requirement already satisfied: deprecated>=1.2.13 in /home/walt/.local/lib/python3.9/site-packages (from sktime~=0.11.4->autogluon.timeseries[all]==0.5.2->autogluon) (1.2.13)\n",
      "Requirement already satisfied: huggingface-hub<1.0,>=0.1.0 in /home/walt/.local/lib/python3.9/site-packages (from transformers<4.21.0,>=4.18.0->autogluon.multimodal==0.5.2->autogluon) (0.10.0)\n",
      "Requirement already satisfied: jmespath<2.0.0,>=0.7.1 in /usr/lib/python3/dist-packages (from boto3->autogluon.core[all]==0.5.2->autogluon) (0.9.4)\n",
      "Requirement already satisfied: s3transfer<0.7.0,>=0.6.0 in /home/walt/.local/lib/python3.9/site-packages (from boto3->autogluon.core[all]==0.5.2->autogluon) (0.6.0)\n",
      "Requirement already satisfied: botocore<1.28.0,>=1.27.89 in /home/walt/.local/lib/python3.9/site-packages (from boto3->autogluon.core[all]==0.5.2->autogluon) (1.27.89)\n",
      "Requirement already satisfied: wrapt<2,>=1.10 in /home/walt/.local/lib/python3.9/site-packages (from deprecated>=1.2.13->sktime~=0.11.4->autogluon.timeseries[all]==0.5.2->autogluon) (1.14.1)\n",
      "Requirement already satisfied: aiohttp!=4.0.0a0,!=4.0.0a1 in /home/walt/.local/lib/python3.9/site-packages (from fsspec>=0.6.0->dask<=2021.11.2,>=2021.09.1->autogluon.core[all]==0.5.2->autogluon) (3.8.3)\n",
      "Requirement already satisfied: hijri-converter in /home/walt/.local/lib/python3.9/site-packages (from holidays>=0.9->gluonts<0.10.0,>=0.8.0->autogluon.timeseries[all]==0.5.2->autogluon) (2.2.4)\n",
      "Requirement already satisfied: convertdate>=2.3.0 in /home/walt/.local/lib/python3.9/site-packages (from holidays>=0.9->gluonts<0.10.0,>=0.8.0->autogluon.timeseries[all]==0.5.2->autogluon) (2.4.0)\n",
      "Requirement already satisfied: korean-lunar-calendar in /home/walt/.local/lib/python3.9/site-packages (from holidays>=0.9->gluonts<0.10.0,>=0.8.0->autogluon.timeseries[all]==0.5.2->autogluon) (0.2.1)\n",
      "Requirement already satisfied: llvmlite<0.40,>=0.39.0dev0 in /home/walt/.local/lib/python3.9/site-packages (from numba>=0.53->sktime~=0.11.4->autogluon.timeseries[all]==0.5.2->autogluon) (0.39.0)\n",
      "Requirement already satisfied: locket in /home/walt/.local/lib/python3.9/site-packages (from partd>=0.3.10->dask<=2021.11.2,>=2021.09.1->autogluon.core[all]==0.5.2->autogluon) (1.0.0)\n",
      "Requirement already satisfied: pathy>=0.3.5 in /home/walt/.local/lib/python3.9/site-packages (from spacy<4->fastai<2.8,>=2.3.1->autogluon.tabular[all]==0.5.2->autogluon) (0.6.2)\n",
      "Requirement already satisfied: catalogue<2.1.0,>=2.0.6 in /home/walt/.local/lib/python3.9/site-packages (from spacy<4->fastai<2.8,>=2.3.1->autogluon.tabular[all]==0.5.2->autogluon) (2.0.8)\n",
      "Requirement already satisfied: srsly<3.0.0,>=2.4.3 in /home/walt/.local/lib/python3.9/site-packages (from spacy<4->fastai<2.8,>=2.3.1->autogluon.tabular[all]==0.5.2->autogluon) (2.4.4)\n",
      "Requirement already satisfied: cymem<2.1.0,>=2.0.2 in /home/walt/.local/lib/python3.9/site-packages (from spacy<4->fastai<2.8,>=2.3.1->autogluon.tabular[all]==0.5.2->autogluon) (2.0.6)\n",
      "Requirement already satisfied: wasabi<1.1.0,>=0.9.1 in /home/walt/.local/lib/python3.9/site-packages (from spacy<4->fastai<2.8,>=2.3.1->autogluon.tabular[all]==0.5.2->autogluon) (0.10.1)\n",
      "Requirement already satisfied: langcodes<4.0.0,>=3.2.0 in /home/walt/.local/lib/python3.9/site-packages (from spacy<4->fastai<2.8,>=2.3.1->autogluon.tabular[all]==0.5.2->autogluon) (3.3.0)\n",
      "Requirement already satisfied: murmurhash<1.1.0,>=0.28.0 in /home/walt/.local/lib/python3.9/site-packages (from spacy<4->fastai<2.8,>=2.3.1->autogluon.tabular[all]==0.5.2->autogluon) (1.0.8)\n",
      "Requirement already satisfied: spacy-legacy<3.1.0,>=3.0.9 in /home/walt/.local/lib/python3.9/site-packages (from spacy<4->fastai<2.8,>=2.3.1->autogluon.tabular[all]==0.5.2->autogluon) (3.0.10)\n",
      "Requirement already satisfied: typer<0.5.0,>=0.3.0 in /home/walt/.local/lib/python3.9/site-packages (from spacy<4->fastai<2.8,>=2.3.1->autogluon.tabular[all]==0.5.2->autogluon) (0.4.2)\n",
      "Requirement already satisfied: spacy-loggers<2.0.0,>=1.0.0 in /home/walt/.local/lib/python3.9/site-packages (from spacy<4->fastai<2.8,>=2.3.1->autogluon.tabular[all]==0.5.2->autogluon) (1.0.3)\n",
      "Requirement already satisfied: thinc<8.2.0,>=8.1.0 in /home/walt/.local/lib/python3.9/site-packages (from spacy<4->fastai<2.8,>=2.3.1->autogluon.tabular[all]==0.5.2->autogluon) (8.1.3)\n",
      "Requirement already satisfied: preshed<3.1.0,>=3.0.2 in /home/walt/.local/lib/python3.9/site-packages (from spacy<4->fastai<2.8,>=2.3.1->autogluon.tabular[all]==0.5.2->autogluon) (3.0.7)\n",
      "Requirement already satisfied: patsy>=0.5.2 in /home/walt/.local/lib/python3.9/site-packages (from statsmodels!=0.12.0,>=0.11->pmdarima~=1.8.2->autogluon.timeseries[all]==0.5.2->autogluon) (0.5.2)\n",
      "Requirement already satisfied: werkzeug>=1.0.1 in /home/walt/.local/lib/python3.9/site-packages (from tensorboard>=2.2.0->pytorch-lightning<1.7.0,>=1.6.0->autogluon.multimodal==0.5.2->autogluon) (2.2.2)\n",
      "Requirement already satisfied: google-auth<3,>=1.6.3 in /home/walt/.local/lib/python3.9/site-packages (from tensorboard>=2.2.0->pytorch-lightning<1.7.0,>=1.6.0->autogluon.multimodal==0.5.2->autogluon) (2.10.0)\n",
      "Requirement already satisfied: tensorboard-plugin-wit>=1.6.0 in /home/walt/.local/lib/python3.9/site-packages (from tensorboard>=2.2.0->pytorch-lightning<1.7.0,>=1.6.0->autogluon.multimodal==0.5.2->autogluon) (1.8.1)\n",
      "Requirement already satisfied: google-auth-oauthlib<0.5,>=0.4.1 in /home/walt/.local/lib/python3.9/site-packages (from tensorboard>=2.2.0->pytorch-lightning<1.7.0,>=1.6.0->autogluon.multimodal==0.5.2->autogluon) (0.4.6)\n",
      "Requirement already satisfied: tensorboard-data-server<0.7.0,>=0.6.0 in /home/walt/.local/lib/python3.9/site-packages (from tensorboard>=2.2.0->pytorch-lightning<1.7.0,>=1.6.0->autogluon.multimodal==0.5.2->autogluon) (0.6.1)\n",
      "Requirement already satisfied: markdown>=2.6.8 in /home/walt/.local/lib/python3.9/site-packages (from tensorboard>=2.2.0->pytorch-lightning<1.7.0,>=1.6.0->autogluon.multimodal==0.5.2->autogluon) (3.4.1)\n",
      "Requirement already satisfied: absl-py>=0.4 in /home/walt/.local/lib/python3.9/site-packages (from tensorboard>=2.2.0->pytorch-lightning<1.7.0,>=1.6.0->autogluon.multimodal==0.5.2->autogluon) (1.2.0)\n",
      "Requirement already satisfied: heapdict in /home/walt/.local/lib/python3.9/site-packages (from zict>=0.1.3->distributed<=2021.11.2,>=2021.09.1->autogluon.core[all]==0.5.2->autogluon) (1.0.1)\n",
      "Requirement already satisfied: immutables>=0.9 in /home/walt/.local/lib/python3.9/site-packages (from contextvars->autogluon-contrib-nlp==0.0.1b20220208->autogluon.text==0.5.2->autogluon) (0.19)\n",
      "Requirement already satisfied: mccabe<0.8.0,>=0.7.0 in /home/walt/.local/lib/python3.9/site-packages (from flake8->autogluon-contrib-nlp==0.0.1b20220208->autogluon.text==0.5.2->autogluon) (0.7.0)\n",
      "Requirement already satisfied: pyflakes<2.6.0,>=2.5.0 in /home/walt/.local/lib/python3.9/site-packages (from flake8->autogluon-contrib-nlp==0.0.1b20220208->autogluon.text==0.5.2->autogluon) (2.5.0)\n",
      "Requirement already satisfied: pycodestyle<2.10.0,>=2.9.0 in /home/walt/.local/lib/python3.9/site-packages (from flake8->autogluon-contrib-nlp==0.0.1b20220208->autogluon.text==0.5.2->autogluon) (2.9.1)\n",
      "Requirement already satisfied: MarkupSafe>=2.0 in /home/walt/.local/lib/python3.9/site-packages (from jinja2->distributed<=2021.11.2,>=2021.09.1->autogluon.core[all]==0.5.2->autogluon) (2.1.1)\n",
      "Requirement already satisfied: tenacity>=6.2.0 in /home/walt/.local/lib/python3.9/site-packages (from plotly->catboost<1.1,>=1.0->autogluon.tabular[all]==0.5.2->autogluon) (8.1.0)\n",
      "Requirement already satisfied: lxml in /home/walt/.local/lib/python3.9/site-packages (from sacrebleu->autogluon-contrib-nlp==0.0.1b20220208->autogluon.text==0.5.2->autogluon) (4.9.1)\n",
      "Requirement already satisfied: colorama in /usr/lib/python3/dist-packages (from sacrebleu->autogluon-contrib-nlp==0.0.1b20220208->autogluon.text==0.5.2->autogluon) (0.4.3)\n"
     ]
    },
    {
     "name": "stdout",
     "output_type": "stream",
     "text": [
      "Requirement already satisfied: distlib<1,>=0.3.5 in /home/walt/.local/lib/python3.9/site-packages (from virtualenv->ray<1.14,>=1.13->autogluon.core[all]==0.5.2->autogluon) (0.3.6)\n",
      "Requirement already satisfied: platformdirs<3,>=2.4 in /home/walt/.local/lib/python3.9/site-packages (from virtualenv->ray<1.14,>=1.13->autogluon.core[all]==0.5.2->autogluon) (2.4.1)\n",
      "Requirement already satisfied: multidict<7.0,>=4.5 in /home/walt/.local/lib/python3.9/site-packages (from aiohttp!=4.0.0a0,!=4.0.0a1->fsspec>=0.6.0->dask<=2021.11.2,>=2021.09.1->autogluon.core[all]==0.5.2->autogluon) (6.0.2)\n",
      "Requirement already satisfied: yarl<2.0,>=1.0 in /home/walt/.local/lib/python3.9/site-packages (from aiohttp!=4.0.0a0,!=4.0.0a1->fsspec>=0.6.0->dask<=2021.11.2,>=2021.09.1->autogluon.core[all]==0.5.2->autogluon) (1.8.1)\n",
      "Requirement already satisfied: charset-normalizer<3.0,>=2.0 in /home/walt/.local/lib/python3.9/site-packages (from aiohttp!=4.0.0a0,!=4.0.0a1->fsspec>=0.6.0->dask<=2021.11.2,>=2021.09.1->autogluon.core[all]==0.5.2->autogluon) (2.1.1)\n",
      "Requirement already satisfied: async-timeout<5.0,>=4.0.0a3 in /home/walt/.local/lib/python3.9/site-packages (from aiohttp!=4.0.0a0,!=4.0.0a1->fsspec>=0.6.0->dask<=2021.11.2,>=2021.09.1->autogluon.core[all]==0.5.2->autogluon) (4.0.2)\n",
      "Requirement already satisfied: pymeeus<=1,>=0.3.13 in /home/walt/.local/lib/python3.9/site-packages (from convertdate>=2.3.0->holidays>=0.9->gluonts<0.10.0,>=0.8.0->autogluon.timeseries[all]==0.5.2->autogluon) (0.5.11)\n",
      "Requirement already satisfied: rsa<5,>=3.1.4 in /usr/lib/python3/dist-packages (from google-auth<3,>=1.6.3->tensorboard>=2.2.0->pytorch-lightning<1.7.0,>=1.6.0->autogluon.multimodal==0.5.2->autogluon) (4.0)\n",
      "Requirement already satisfied: pyasn1-modules>=0.2.1 in /home/walt/.local/lib/python3.9/site-packages (from google-auth<3,>=1.6.3->tensorboard>=2.2.0->pytorch-lightning<1.7.0,>=1.6.0->autogluon.multimodal==0.5.2->autogluon) (0.2.8)\n",
      "Requirement already satisfied: cachetools<6.0,>=2.0.0 in /home/walt/.local/lib/python3.9/site-packages (from google-auth<3,>=1.6.3->tensorboard>=2.2.0->pytorch-lightning<1.7.0,>=1.6.0->autogluon.multimodal==0.5.2->autogluon) (5.2.0)\n",
      "Requirement already satisfied: requests-oauthlib>=0.7.0 in /home/walt/.local/lib/python3.9/site-packages (from google-auth-oauthlib<0.5,>=0.4.1->tensorboard>=2.2.0->pytorch-lightning<1.7.0,>=1.6.0->autogluon.multimodal==0.5.2->autogluon) (1.3.1)\n",
      "Requirement already satisfied: importlib-metadata>=4.4 in /home/walt/.local/lib/python3.9/site-packages (from markdown>=2.6.8->tensorboard>=2.2.0->pytorch-lightning<1.7.0,>=1.6.0->autogluon.multimodal==0.5.2->autogluon) (4.12.0)\n",
      "Requirement already satisfied: blis<0.8.0,>=0.7.8 in /home/walt/.local/lib/python3.9/site-packages (from thinc<8.2.0,>=8.1.0->spacy<4->fastai<2.8,>=2.3.1->autogluon.tabular[all]==0.5.2->autogluon) (0.7.8)\n",
      "Requirement already satisfied: confection<1.0.0,>=0.0.1 in /home/walt/.local/lib/python3.9/site-packages (from thinc<8.2.0,>=8.1.0->spacy<4->fastai<2.8,>=2.3.1->autogluon.tabular[all]==0.5.2->autogluon) (0.0.3)\n",
      "Requirement already satisfied: zipp>=0.5 in /home/walt/.local/lib/python3.9/site-packages (from importlib-metadata>=4.4->markdown>=2.6.8->tensorboard>=2.2.0->pytorch-lightning<1.7.0,>=1.6.0->autogluon.multimodal==0.5.2->autogluon) (3.8.1)\n",
      "Requirement already satisfied: pyasn1<0.5.0,>=0.4.6 in /home/walt/.local/lib/python3.9/site-packages (from pyasn1-modules>=0.2.1->google-auth<3,>=1.6.3->tensorboard>=2.2.0->pytorch-lightning<1.7.0,>=1.6.0->autogluon.multimodal==0.5.2->autogluon) (0.4.8)\n",
      "Requirement already satisfied: oauthlib>=3.0.0 in /usr/lib/python3/dist-packages (from requests-oauthlib>=0.7.0->google-auth-oauthlib<0.5,>=0.4.1->tensorboard>=2.2.0->pytorch-lightning<1.7.0,>=1.6.0->autogluon.multimodal==0.5.2->autogluon) (3.1.0)\n",
      "Requirement already satisfied: idna>=2.0 in /usr/lib/python3/dist-packages (from yarl<2.0,>=1.0->aiohttp!=4.0.0a0,!=4.0.0a1->fsspec>=0.6.0->dask<=2021.11.2,>=2021.09.1->autogluon.core[all]==0.5.2->autogluon) (2.8)\n",
      "\u001b[33mWARNING: You are using pip version 22.0.3; however, version 22.2.2 is available.\n",
      "You should consider upgrading via the '/usr/bin/python3.9 -m pip install --upgrade pip' command.\u001b[0m\u001b[33m\n",
      "\u001b[0mNote: you may need to restart the kernel to use updated packages.\n"
     ]
    }
   ],
   "source": [
    "import pandas as pd\n",
    "import matplotlib.pyplot as plt\n",
    "from sklearn.model_selection import train_test_split\n",
    "import sklearn.metrics\n",
    "from scipy.stats import norm\n",
    "import numpy as np\n",
    "\n",
    "%pip install autogluon\n",
    "from autogluon.tabular import TabularDataset, TabularPredictor\n",
    "from autogluon.core.metrics import make_scorer"
   ]
  },
  {
   "cell_type": "markdown",
   "id": "a1e4b14e",
   "metadata": {},
   "source": [
    "Carga de datos"
   ]
  },
  {
   "cell_type": "code",
   "execution_count": 51,
   "id": "690b6a5a",
   "metadata": {},
   "outputs": [
    {
     "data": {
      "text/html": [
       "<div>\n",
       "<style scoped>\n",
       "    .dataframe tbody tr th:only-of-type {\n",
       "        vertical-align: middle;\n",
       "    }\n",
       "\n",
       "    .dataframe tbody tr th {\n",
       "        vertical-align: top;\n",
       "    }\n",
       "\n",
       "    .dataframe thead th {\n",
       "        text-align: right;\n",
       "    }\n",
       "</style>\n",
       "<table border=\"1\" class=\"dataframe\">\n",
       "  <thead>\n",
       "    <tr style=\"text-align: right;\">\n",
       "      <th></th>\n",
       "      <th>Pregnancies</th>\n",
       "      <th>Glucose</th>\n",
       "      <th>BloodPressure</th>\n",
       "      <th>SkinThickness</th>\n",
       "      <th>Insulin</th>\n",
       "      <th>BMI</th>\n",
       "      <th>DiabetesPedigreeFunction</th>\n",
       "      <th>Age</th>\n",
       "      <th>Outcome</th>\n",
       "    </tr>\n",
       "  </thead>\n",
       "  <tbody>\n",
       "    <tr>\n",
       "      <th>0</th>\n",
       "      <td>6</td>\n",
       "      <td>148</td>\n",
       "      <td>72</td>\n",
       "      <td>35</td>\n",
       "      <td>0</td>\n",
       "      <td>33.6</td>\n",
       "      <td>0.627</td>\n",
       "      <td>50</td>\n",
       "      <td>1</td>\n",
       "    </tr>\n",
       "    <tr>\n",
       "      <th>1</th>\n",
       "      <td>1</td>\n",
       "      <td>85</td>\n",
       "      <td>66</td>\n",
       "      <td>29</td>\n",
       "      <td>0</td>\n",
       "      <td>26.6</td>\n",
       "      <td>0.351</td>\n",
       "      <td>31</td>\n",
       "      <td>0</td>\n",
       "    </tr>\n",
       "    <tr>\n",
       "      <th>2</th>\n",
       "      <td>8</td>\n",
       "      <td>183</td>\n",
       "      <td>64</td>\n",
       "      <td>0</td>\n",
       "      <td>0</td>\n",
       "      <td>23.3</td>\n",
       "      <td>0.672</td>\n",
       "      <td>32</td>\n",
       "      <td>1</td>\n",
       "    </tr>\n",
       "    <tr>\n",
       "      <th>3</th>\n",
       "      <td>1</td>\n",
       "      <td>89</td>\n",
       "      <td>66</td>\n",
       "      <td>23</td>\n",
       "      <td>94</td>\n",
       "      <td>28.1</td>\n",
       "      <td>0.167</td>\n",
       "      <td>21</td>\n",
       "      <td>0</td>\n",
       "    </tr>\n",
       "    <tr>\n",
       "      <th>4</th>\n",
       "      <td>0</td>\n",
       "      <td>137</td>\n",
       "      <td>40</td>\n",
       "      <td>35</td>\n",
       "      <td>168</td>\n",
       "      <td>43.1</td>\n",
       "      <td>2.288</td>\n",
       "      <td>33</td>\n",
       "      <td>1</td>\n",
       "    </tr>\n",
       "  </tbody>\n",
       "</table>\n",
       "</div>"
      ],
      "text/plain": [
       "   Pregnancies  Glucose  BloodPressure  SkinThickness  Insulin   BMI  \\\n",
       "0            6      148             72             35        0  33.6   \n",
       "1            1       85             66             29        0  26.6   \n",
       "2            8      183             64              0        0  23.3   \n",
       "3            1       89             66             23       94  28.1   \n",
       "4            0      137             40             35      168  43.1   \n",
       "\n",
       "   DiabetesPedigreeFunction  Age  Outcome  \n",
       "0                     0.627   50        1  \n",
       "1                     0.351   31        0  \n",
       "2                     0.672   32        1  \n",
       "3                     0.167   21        0  \n",
       "4                     2.288   33        1  "
      ]
     },
     "execution_count": 51,
     "metadata": {},
     "output_type": "execute_result"
    }
   ],
   "source": [
    "df = pd.read_csv('./diabetes.csv')\n",
    "df.head()"
   ]
  },
  {
   "cell_type": "markdown",
   "id": "3779eb4c",
   "metadata": {},
   "source": [
    "## Análisis exploratorio"
   ]
  },
  {
   "cell_type": "markdown",
   "id": "b34f9b12",
   "metadata": {},
   "source": [
    "### Descripción del dataset\n",
    "Contiene información de la frecuencia de varios síntomas, en pacientes, que suelen ser indicadores de diabetes, así como la información si los resultados de la prueba de diabetes fue positiva o negativa.\n",
    "\n",
    "### Detalle de las variables\n",
    "|Variable|Detalle|Clasificación|\n",
    "|:--|:--|:--|\n",
    "|Pregnancies|Número de veces que ha estado embarazada|Cuantitativa discreta|\n",
    "|GlucosePlasma|Concentración de glucosa|Cuantitativa discreta|\n",
    "|BloodPressure|Presión de sangre diastólica (mm Hg)|Cuantitativa discreta|\n",
    "|Skin|Grosor del pliegue cutáneo del Triscep (mm)|Cuantitativa discreta|\n",
    "|Insulin|Suero de insulina 2-Horas (mu U/ml)|Cuantitativa discreta|\n",
    "|BMI|Indice de masa corporal (peso en Kg/(estatura en mts)2)|Cuantitativa continua|\n",
    "|DiabetesPedigreeFunction|Función de pedigree de diabetes|Cuantitativa continua|\n",
    "|Age:|Edad en años|Cuantitativa discreta|\n",
    "|Outcome|Diabetes ó no diabetes (0 ó 1)|Cualitativa nominal|"
   ]
  },
  {
   "cell_type": "code",
   "execution_count": 52,
   "id": "a139264a",
   "metadata": {},
   "outputs": [
    {
     "data": {
      "text/plain": [
       "Pregnancies                   int64\n",
       "Glucose                       int64\n",
       "BloodPressure                 int64\n",
       "SkinThickness                 int64\n",
       "Insulin                       int64\n",
       "BMI                         float64\n",
       "DiabetesPedigreeFunction    float64\n",
       "Age                           int64\n",
       "Outcome                       int64\n",
       "dtype: object"
      ]
     },
     "execution_count": 52,
     "metadata": {},
     "output_type": "execute_result"
    }
   ],
   "source": [
    "df.dtypes"
   ]
  },
  {
   "cell_type": "markdown",
   "id": "35128547",
   "metadata": {},
   "source": [
    "### Resúmen estadístico del dataset"
   ]
  },
  {
   "cell_type": "code",
   "execution_count": 53,
   "id": "bab17475",
   "metadata": {},
   "outputs": [
    {
     "data": {
      "text/html": [
       "<div>\n",
       "<style scoped>\n",
       "    .dataframe tbody tr th:only-of-type {\n",
       "        vertical-align: middle;\n",
       "    }\n",
       "\n",
       "    .dataframe tbody tr th {\n",
       "        vertical-align: top;\n",
       "    }\n",
       "\n",
       "    .dataframe thead th {\n",
       "        text-align: right;\n",
       "    }\n",
       "</style>\n",
       "<table border=\"1\" class=\"dataframe\">\n",
       "  <thead>\n",
       "    <tr style=\"text-align: right;\">\n",
       "      <th></th>\n",
       "      <th>Pregnancies</th>\n",
       "      <th>Glucose</th>\n",
       "      <th>BloodPressure</th>\n",
       "      <th>SkinThickness</th>\n",
       "      <th>Insulin</th>\n",
       "      <th>BMI</th>\n",
       "      <th>DiabetesPedigreeFunction</th>\n",
       "      <th>Age</th>\n",
       "      <th>Outcome</th>\n",
       "    </tr>\n",
       "  </thead>\n",
       "  <tbody>\n",
       "    <tr>\n",
       "      <th>count</th>\n",
       "      <td>768.000000</td>\n",
       "      <td>768.000000</td>\n",
       "      <td>768.000000</td>\n",
       "      <td>768.000000</td>\n",
       "      <td>768.000000</td>\n",
       "      <td>768.000000</td>\n",
       "      <td>768.000000</td>\n",
       "      <td>768.000000</td>\n",
       "      <td>768.000000</td>\n",
       "    </tr>\n",
       "    <tr>\n",
       "      <th>mean</th>\n",
       "      <td>3.845052</td>\n",
       "      <td>120.894531</td>\n",
       "      <td>69.105469</td>\n",
       "      <td>20.536458</td>\n",
       "      <td>79.799479</td>\n",
       "      <td>31.992578</td>\n",
       "      <td>0.471876</td>\n",
       "      <td>33.240885</td>\n",
       "      <td>0.348958</td>\n",
       "    </tr>\n",
       "    <tr>\n",
       "      <th>std</th>\n",
       "      <td>3.369578</td>\n",
       "      <td>31.972618</td>\n",
       "      <td>19.355807</td>\n",
       "      <td>15.952218</td>\n",
       "      <td>115.244002</td>\n",
       "      <td>7.884160</td>\n",
       "      <td>0.331329</td>\n",
       "      <td>11.760232</td>\n",
       "      <td>0.476951</td>\n",
       "    </tr>\n",
       "    <tr>\n",
       "      <th>min</th>\n",
       "      <td>0.000000</td>\n",
       "      <td>0.000000</td>\n",
       "      <td>0.000000</td>\n",
       "      <td>0.000000</td>\n",
       "      <td>0.000000</td>\n",
       "      <td>0.000000</td>\n",
       "      <td>0.078000</td>\n",
       "      <td>21.000000</td>\n",
       "      <td>0.000000</td>\n",
       "    </tr>\n",
       "    <tr>\n",
       "      <th>25%</th>\n",
       "      <td>1.000000</td>\n",
       "      <td>99.000000</td>\n",
       "      <td>62.000000</td>\n",
       "      <td>0.000000</td>\n",
       "      <td>0.000000</td>\n",
       "      <td>27.300000</td>\n",
       "      <td>0.243750</td>\n",
       "      <td>24.000000</td>\n",
       "      <td>0.000000</td>\n",
       "    </tr>\n",
       "    <tr>\n",
       "      <th>50%</th>\n",
       "      <td>3.000000</td>\n",
       "      <td>117.000000</td>\n",
       "      <td>72.000000</td>\n",
       "      <td>23.000000</td>\n",
       "      <td>30.500000</td>\n",
       "      <td>32.000000</td>\n",
       "      <td>0.372500</td>\n",
       "      <td>29.000000</td>\n",
       "      <td>0.000000</td>\n",
       "    </tr>\n",
       "    <tr>\n",
       "      <th>75%</th>\n",
       "      <td>6.000000</td>\n",
       "      <td>140.250000</td>\n",
       "      <td>80.000000</td>\n",
       "      <td>32.000000</td>\n",
       "      <td>127.250000</td>\n",
       "      <td>36.600000</td>\n",
       "      <td>0.626250</td>\n",
       "      <td>41.000000</td>\n",
       "      <td>1.000000</td>\n",
       "    </tr>\n",
       "    <tr>\n",
       "      <th>max</th>\n",
       "      <td>17.000000</td>\n",
       "      <td>199.000000</td>\n",
       "      <td>122.000000</td>\n",
       "      <td>99.000000</td>\n",
       "      <td>846.000000</td>\n",
       "      <td>67.100000</td>\n",
       "      <td>2.420000</td>\n",
       "      <td>81.000000</td>\n",
       "      <td>1.000000</td>\n",
       "    </tr>\n",
       "  </tbody>\n",
       "</table>\n",
       "</div>"
      ],
      "text/plain": [
       "       Pregnancies     Glucose  BloodPressure  SkinThickness     Insulin  \\\n",
       "count   768.000000  768.000000     768.000000     768.000000  768.000000   \n",
       "mean      3.845052  120.894531      69.105469      20.536458   79.799479   \n",
       "std       3.369578   31.972618      19.355807      15.952218  115.244002   \n",
       "min       0.000000    0.000000       0.000000       0.000000    0.000000   \n",
       "25%       1.000000   99.000000      62.000000       0.000000    0.000000   \n",
       "50%       3.000000  117.000000      72.000000      23.000000   30.500000   \n",
       "75%       6.000000  140.250000      80.000000      32.000000  127.250000   \n",
       "max      17.000000  199.000000     122.000000      99.000000  846.000000   \n",
       "\n",
       "              BMI  DiabetesPedigreeFunction         Age     Outcome  \n",
       "count  768.000000                768.000000  768.000000  768.000000  \n",
       "mean    31.992578                  0.471876   33.240885    0.348958  \n",
       "std      7.884160                  0.331329   11.760232    0.476951  \n",
       "min      0.000000                  0.078000   21.000000    0.000000  \n",
       "25%     27.300000                  0.243750   24.000000    0.000000  \n",
       "50%     32.000000                  0.372500   29.000000    0.000000  \n",
       "75%     36.600000                  0.626250   41.000000    1.000000  \n",
       "max     67.100000                  2.420000   81.000000    1.000000  "
      ]
     },
     "execution_count": 53,
     "metadata": {},
     "output_type": "execute_result"
    }
   ],
   "source": [
    "df.describe()"
   ]
  },
  {
   "cell_type": "markdown",
   "id": "a4c5e7ed",
   "metadata": {},
   "source": [
    "En primera instancia vemos datos atípicos que no pueden existir en una persona viva, por ejemplo valor 0 en glucosa, presión, BMI, grueso de piel, o insulina. Por lo que se removeran."
   ]
  },
  {
   "cell_type": "code",
   "execution_count": 55,
   "id": "4f20b840",
   "metadata": {},
   "outputs": [
    {
     "data": {
      "text/html": [
       "<div>\n",
       "<style scoped>\n",
       "    .dataframe tbody tr th:only-of-type {\n",
       "        vertical-align: middle;\n",
       "    }\n",
       "\n",
       "    .dataframe tbody tr th {\n",
       "        vertical-align: top;\n",
       "    }\n",
       "\n",
       "    .dataframe thead th {\n",
       "        text-align: right;\n",
       "    }\n",
       "</style>\n",
       "<table border=\"1\" class=\"dataframe\">\n",
       "  <thead>\n",
       "    <tr style=\"text-align: right;\">\n",
       "      <th></th>\n",
       "      <th>Pregnancies</th>\n",
       "      <th>Glucose</th>\n",
       "      <th>BloodPressure</th>\n",
       "      <th>SkinThickness</th>\n",
       "      <th>Insulin</th>\n",
       "      <th>BMI</th>\n",
       "      <th>DiabetesPedigreeFunction</th>\n",
       "      <th>Age</th>\n",
       "      <th>Outcome</th>\n",
       "    </tr>\n",
       "  </thead>\n",
       "  <tbody>\n",
       "    <tr>\n",
       "      <th>count</th>\n",
       "      <td>392.000000</td>\n",
       "      <td>392.000000</td>\n",
       "      <td>392.000000</td>\n",
       "      <td>392.000000</td>\n",
       "      <td>392.000000</td>\n",
       "      <td>392.000000</td>\n",
       "      <td>392.000000</td>\n",
       "      <td>392.000000</td>\n",
       "      <td>392.000000</td>\n",
       "    </tr>\n",
       "    <tr>\n",
       "      <th>mean</th>\n",
       "      <td>3.301020</td>\n",
       "      <td>122.627551</td>\n",
       "      <td>70.663265</td>\n",
       "      <td>29.145408</td>\n",
       "      <td>156.056122</td>\n",
       "      <td>33.086224</td>\n",
       "      <td>0.523046</td>\n",
       "      <td>30.864796</td>\n",
       "      <td>0.331633</td>\n",
       "    </tr>\n",
       "    <tr>\n",
       "      <th>std</th>\n",
       "      <td>3.211424</td>\n",
       "      <td>30.860781</td>\n",
       "      <td>12.496092</td>\n",
       "      <td>10.516424</td>\n",
       "      <td>118.841690</td>\n",
       "      <td>7.027659</td>\n",
       "      <td>0.345488</td>\n",
       "      <td>10.200777</td>\n",
       "      <td>0.471401</td>\n",
       "    </tr>\n",
       "    <tr>\n",
       "      <th>min</th>\n",
       "      <td>0.000000</td>\n",
       "      <td>56.000000</td>\n",
       "      <td>24.000000</td>\n",
       "      <td>7.000000</td>\n",
       "      <td>14.000000</td>\n",
       "      <td>18.200000</td>\n",
       "      <td>0.085000</td>\n",
       "      <td>21.000000</td>\n",
       "      <td>0.000000</td>\n",
       "    </tr>\n",
       "    <tr>\n",
       "      <th>25%</th>\n",
       "      <td>1.000000</td>\n",
       "      <td>99.000000</td>\n",
       "      <td>62.000000</td>\n",
       "      <td>21.000000</td>\n",
       "      <td>76.750000</td>\n",
       "      <td>28.400000</td>\n",
       "      <td>0.269750</td>\n",
       "      <td>23.000000</td>\n",
       "      <td>0.000000</td>\n",
       "    </tr>\n",
       "    <tr>\n",
       "      <th>50%</th>\n",
       "      <td>2.000000</td>\n",
       "      <td>119.000000</td>\n",
       "      <td>70.000000</td>\n",
       "      <td>29.000000</td>\n",
       "      <td>125.500000</td>\n",
       "      <td>33.200000</td>\n",
       "      <td>0.449500</td>\n",
       "      <td>27.000000</td>\n",
       "      <td>0.000000</td>\n",
       "    </tr>\n",
       "    <tr>\n",
       "      <th>75%</th>\n",
       "      <td>5.000000</td>\n",
       "      <td>143.000000</td>\n",
       "      <td>78.000000</td>\n",
       "      <td>37.000000</td>\n",
       "      <td>190.000000</td>\n",
       "      <td>37.100000</td>\n",
       "      <td>0.687000</td>\n",
       "      <td>36.000000</td>\n",
       "      <td>1.000000</td>\n",
       "    </tr>\n",
       "    <tr>\n",
       "      <th>max</th>\n",
       "      <td>17.000000</td>\n",
       "      <td>198.000000</td>\n",
       "      <td>110.000000</td>\n",
       "      <td>63.000000</td>\n",
       "      <td>846.000000</td>\n",
       "      <td>67.100000</td>\n",
       "      <td>2.420000</td>\n",
       "      <td>81.000000</td>\n",
       "      <td>1.000000</td>\n",
       "    </tr>\n",
       "  </tbody>\n",
       "</table>\n",
       "</div>"
      ],
      "text/plain": [
       "       Pregnancies     Glucose  BloodPressure  SkinThickness     Insulin  \\\n",
       "count   392.000000  392.000000     392.000000     392.000000  392.000000   \n",
       "mean      3.301020  122.627551      70.663265      29.145408  156.056122   \n",
       "std       3.211424   30.860781      12.496092      10.516424  118.841690   \n",
       "min       0.000000   56.000000      24.000000       7.000000   14.000000   \n",
       "25%       1.000000   99.000000      62.000000      21.000000   76.750000   \n",
       "50%       2.000000  119.000000      70.000000      29.000000  125.500000   \n",
       "75%       5.000000  143.000000      78.000000      37.000000  190.000000   \n",
       "max      17.000000  198.000000     110.000000      63.000000  846.000000   \n",
       "\n",
       "              BMI  DiabetesPedigreeFunction         Age     Outcome  \n",
       "count  392.000000                392.000000  392.000000  392.000000  \n",
       "mean    33.086224                  0.523046   30.864796    0.331633  \n",
       "std      7.027659                  0.345488   10.200777    0.471401  \n",
       "min     18.200000                  0.085000   21.000000    0.000000  \n",
       "25%     28.400000                  0.269750   23.000000    0.000000  \n",
       "50%     33.200000                  0.449500   27.000000    0.000000  \n",
       "75%     37.100000                  0.687000   36.000000    1.000000  \n",
       "max     67.100000                  2.420000   81.000000    1.000000  "
      ]
     },
     "execution_count": 55,
     "metadata": {},
     "output_type": "execute_result"
    }
   ],
   "source": [
    "indexes_0 = df[df['Glucose'] == 0]\n",
    "df.drop(indexes_0.index, inplace=True)\n",
    "\n",
    "indexes_0 = df[df['BloodPressure'] == 0]\n",
    "df.drop(indexes_0.index, inplace=True)\n",
    "\n",
    "indexes_0 = df[df['SkinThickness'] == 0]\n",
    "df.drop(indexes_0.index, inplace=True)\n",
    "\n",
    "indexes_0 = df[df['Insulin'] == 0]\n",
    "df.drop(indexes_0.index, inplace=True)\n",
    "\n",
    "indexes_0 = df[df['BMI'] == 0]\n",
    "df.drop(indexes_0.index, inplace=True)\n",
    "\n",
    "df.describe()"
   ]
  },
  {
   "cell_type": "markdown",
   "id": "2dc8d6c2",
   "metadata": {},
   "source": [
    "### Datos atípicos"
   ]
  },
  {
   "cell_type": "code",
   "execution_count": 56,
   "id": "c82a146e",
   "metadata": {},
   "outputs": [
    {
     "data": {
      "image/png": "[encoded data removed]",
      "text/plain": [
       "<Figure size 432x288 with 1 Axes>"
      ]
     },
     "metadata": {
      "needs_background": "light"
     },
     "output_type": "display_data"
    },
    {
     "data": {
      "image/png": "[encoded data removed]",
      "text/plain": [
       "<Figure size 432x288 with 1 Axes>"
      ]
     },
     "metadata": {
      "needs_background": "light"
     },
     "output_type": "display_data"
    },
    {
     "data": {
      "image/png": "[encoded data removed]",
      "text/plain": [
       "<Figure size 432x288 with 1 Axes>"
      ]
     },
     "metadata": {
      "needs_background": "light"
     },
     "output_type": "display_data"
    },
    {
     "data": {
      "image/png": "[encoded data removed]",
      "text/plain": [
       "<Figure size 432x288 with 1 Axes>"
      ]
     },
     "metadata": {
      "needs_background": "light"
     },
     "output_type": "display_data"
    },
    {
     "data": {
      "image/png": "[encoded data removed]",
      "text/plain": [
       "<Figure size 432x288 with 1 Axes>"
      ]
     },
     "metadata": {
      "needs_background": "light"
     },
     "output_type": "display_data"
    },
    {
     "data": {
      "image/png": "[encoded data removed]",
      "text/plain": [
       "<Figure size 432x288 with 1 Axes>"
      ]
     },
     "metadata": {
      "needs_background": "light"
     },
     "output_type": "display_data"
    },
    {
     "data": {
      "image/png": "[encoded data removed]",
      "text/plain": [
       "<Figure size 432x288 with 1 Axes>"
      ]
     },
     "metadata": {
      "needs_background": "light"
     },
     "output_type": "display_data"
    },
    {
     "data": {
      "image/png": "[encoded data removed]",
      "text/plain": [
       "<Figure size 432x288 with 1 Axes>"
      ]
     },
     "metadata": {
      "needs_background": "light"
     },
     "output_type": "display_data"
    },
    {
     "data": {
      "image/png": "[encoded data removed]",
      "text/plain": [
       "<Figure size 432x288 with 1 Axes>"
      ]
     },
     "metadata": {
      "needs_background": "light"
     },
     "output_type": "display_data"
    }
   ],
   "source": [
    "for column in df.columns:\n",
    "    plt.boxplot(df[column])\n",
    "    plt.title(column)\n",
    "    plt.show()"
   ]
  },
  {
   "cell_type": "markdown",
   "id": "b75cc8f7",
   "metadata": {},
   "source": [
    "A pesar de que se identifican datos que podrían parecer ser atípicos, ninguno se sale del margen de condiciones que naturalmente pueda padecer una persona. Por lo tanto, se espera que aporten información al entrenamiento, puesto a que dada la naturaleza de la diabetes, se sabe que mientras más extremos son los síntomas (atípicos), más probable es que la condición sea más grave."
   ]
  },
  {
   "cell_type": "markdown",
   "id": "850ad492",
   "metadata": {},
   "source": [
    "### Normalidad y frecuencia de los datos"
   ]
  },
  {
   "cell_type": "code",
   "execution_count": 57,
   "id": "573732c1",
   "metadata": {},
   "outputs": [
    {
     "data": {
      "image/png": "[encoded data removed]",
      "text/plain": [
       "<Figure size 432x288 with 1 Axes>"
      ]
     },
     "metadata": {
      "needs_background": "light"
     },
     "output_type": "display_data"
    },
    {
     "name": "stdout",
     "output_type": "stream",
     "text": [
      "Kurtosis:  1.4863417448340144\n",
      "Sesgo:  1.3355962679659634\n"
     ]
    },
    {
     "data": {
      "image/png": "[encoded data removed]",
      "text/plain": [
       "<Figure size 432x288 with 1 Axes>"
      ]
     },
     "metadata": {
      "needs_background": "light"
     },
     "output_type": "display_data"
    },
    {
     "name": "stdout",
     "output_type": "stream",
     "text": [
      "Kurtosis:  -0.48322696131655807\n",
      "Sesgo:  0.5178499371777541\n"
     ]
    },
    {
     "data": {
      "image/png": "[encoded data removed]",
      "text/plain": [
       "<Figure size 432x288 with 1 Axes>"
      ]
     },
     "metadata": {
      "needs_background": "light"
     },
     "output_type": "display_data"
    },
    {
     "name": "stdout",
     "output_type": "stream",
     "text": [
      "Kurtosis:  0.7954044447041766\n",
      "Sesgo:  -0.08751639156004226\n"
     ]
    },
    {
     "data": {
      "image/png": "[encoded data removed]",
      "text/plain": [
       "<Figure size 432x288 with 1 Axes>"
      ]
     },
     "metadata": {
      "needs_background": "light"
     },
     "output_type": "display_data"
    },
    {
     "name": "stdout",
     "output_type": "stream",
     "text": [
      "Kurtosis:  -0.45769608865023415\n",
      "Sesgo:  0.20931080688997156\n"
     ]
    },
    {
     "data": {
      "image/png": "[encoded data removed]",
      "text/plain": [
       "<Figure size 432x288 with 1 Axes>"
      ]
     },
     "metadata": {
      "needs_background": "light"
     },
     "output_type": "display_data"
    },
    {
     "name": "stdout",
     "output_type": "stream",
     "text": [
      "Kurtosis:  6.356505089203407\n",
      "Sesgo:  2.1651161863573374\n"
     ]
    },
    {
     "data": {
      "image/png": "[encoded data removed]",
      "text/plain": [
       "<Figure size 432x288 with 1 Axes>"
      ]
     },
     "metadata": {
      "needs_background": "light"
     },
     "output_type": "display_data"
    },
    {
     "name": "stdout",
     "output_type": "stream",
     "text": [
      "Kurtosis:  1.5565130639494997\n",
      "Sesgo:  0.663485056210774\n"
     ]
    },
    {
     "data": {
      "image/png": "[encoded data removed]",
      "text/plain": [
       "<Figure size 432x288 with 1 Axes>"
      ]
     },
     "metadata": {
      "needs_background": "light"
     },
     "output_type": "display_data"
    },
    {
     "name": "stdout",
     "output_type": "stream",
     "text": [
      "Kurtosis:  6.36668987920683\n",
      "Sesgo:  1.9591011676798942\n"
     ]
    },
    {
     "data": {
      "image/png": "[encoded data removed]",
      "text/plain": [
       "<Figure size 432x288 with 1 Axes>"
      ]
     },
     "metadata": {
      "needs_background": "light"
     },
     "output_type": "display_data"
    },
    {
     "name": "stdout",
     "output_type": "stream",
     "text": [
      "Kurtosis:  1.7375308358734136\n",
      "Sesgo:  1.4036065447817476\n"
     ]
    },
    {
     "data": {
      "image/png": "[encoded data removed]",
      "text/plain": [
       "<Figure size 432x288 with 1 Axes>"
      ]
     },
     "metadata": {
      "needs_background": "light"
     },
     "output_type": "display_data"
    },
    {
     "name": "stdout",
     "output_type": "stream",
     "text": [
      "Kurtosis:  -1.4921294169544117\n",
      "Sesgo:  0.7179900314836882\n"
     ]
    }
   ],
   "source": [
    "def show_normality(data, title=''):\n",
    "    mu, std = norm.fit(data)\n",
    "    plt.hist(data, bins=25, density=True, alpha=0.6, color='b')\n",
    "  \n",
    "    xmin, xmax = plt.xlim()\n",
    "    x = np.linspace(xmin, xmax, 100)\n",
    "    p = norm.pdf(x, mu, std)\n",
    "\n",
    "    plt.plot(x, p, 'k', linewidth=2)\n",
    "    title = title + \" - Fit Values: {:.2f} and {:.2f}\".format(mu, std)\n",
    "    plt.title(title)\n",
    "    \n",
    "    plt.show()\n",
    "    \n",
    "    kurtosis = data.kurtosis()\n",
    "    skew = data.skew()\n",
    "    print('Kurtosis: ', kurtosis)\n",
    "    print('Sesgo: ', skew)\n",
    "\n",
    "for column in df.columns:\n",
    "    show_normality(df[column], column)"
   ]
  },
  {
   "cell_type": "markdown",
   "id": "7c87818e",
   "metadata": {},
   "source": [
    "Contrario a lo que se intuiría de un dataset de síntomas de salud, ninguna de las variables se comporta de forma normal, pues todas tienen una kurtosis muy alejada de 1.\n",
    "\n",
    "La variable que mejor se aproxima a una variable normal es la presión sanguínea con curtósis de 0.8.\n",
    "\n",
    "También se destaca que hay un sesgo demasiado grande en las edades (de 1.13), el sesgo está dirigido a edades de jóvenes, lo cual puede perjudicar el entrenamiento y análisis dado que sabemos que la diabetes es más común en personas mayores. Claramente la edad también es una variable que tiene influencia en la diabetes, pero la desproporción puede perjudicar los resultados."
   ]
  },
  {
   "cell_type": "markdown",
   "id": "b33e7eba",
   "metadata": {},
   "source": [
    "## Autogluon\n",
    "### Predecir la columna \"Outcome\""
   ]
  },
  {
   "cell_type": "code",
   "execution_count": 58,
   "id": "99ec64f3",
   "metadata": {},
   "outputs": [],
   "source": [
    "train, test = train_test_split(df, test_size=0.2, random_state=0)"
   ]
  },
  {
   "cell_type": "code",
   "execution_count": 59,
   "id": "c489f2c4",
   "metadata": {},
   "outputs": [
    {
     "name": "stderr",
     "output_type": "stream",
     "text": [
      "No path specified. Models will be saved in: \"AutogluonModels/ag-20221008_010027/\"\n",
      "Beginning AutoGluon training ...\n",
      "AutoGluon will save models to \"AutogluonModels/ag-20221008_010027/\"\n",
      "AutoGluon Version:  0.5.2\n",
      "Python Version:     3.9.5\n",
      "Operating System:   Linux\n",
      "Train Data Rows:    313\n",
      "Train Data Columns: 8\n",
      "Label Column: Outcome\n",
      "Preprocessing data ...\n",
      "AutoGluon infers your prediction problem is: 'binary' (because only two unique label-values observed).\n",
      "\t2 unique label values:  [1, 0]\n",
      "\tIf 'binary' is not the correct problem_type, please manually specify the problem_type parameter during predictor init (You may specify problem_type as one of: ['binary', 'multiclass', 'regression'])\n",
      "Selected class <--> label mapping:  class 1 = 1, class 0 = 0\n",
      "Using Feature Generators to preprocess the data ...\n",
      "Fitting AutoMLPipelineFeatureGenerator...\n",
      "\tAvailable Memory:                    860.92 MB\n",
      "\tTrain Data (Original)  Memory Usage: 0.02 MB (0.0% of available memory)\n",
      "\tInferring data type of each feature based on column values. Set feature_metadata_in to manually specify special dtypes of the features.\n",
      "\tStage 1 Generators:\n",
      "\t\tFitting AsTypeFeatureGenerator...\n",
      "\tStage 2 Generators:\n",
      "\t\tFitting FillNaFeatureGenerator...\n",
      "\tStage 3 Generators:\n",
      "\t\tFitting IdentityFeatureGenerator...\n",
      "\tStage 4 Generators:\n",
      "\t\tFitting DropUniqueFeatureGenerator...\n",
      "\tTypes of features in original data (raw dtype, special dtypes):\n",
      "\t\t('float', []) : 2 | ['BMI', 'DiabetesPedigreeFunction']\n",
      "\t\t('int', [])   : 6 | ['Pregnancies', 'Glucose', 'BloodPressure', 'SkinThickness', 'Insulin', ...]\n",
      "\tTypes of features in processed data (raw dtype, special dtypes):\n",
      "\t\t('float', []) : 2 | ['BMI', 'DiabetesPedigreeFunction']\n",
      "\t\t('int', [])   : 6 | ['Pregnancies', 'Glucose', 'BloodPressure', 'SkinThickness', 'Insulin', ...]\n",
      "\t0.0s = Fit runtime\n",
      "\t8 features in original data used to generate 8 features in processed data.\n",
      "\tTrain Data (Processed) Memory Usage: 0.02 MB (0.0% of available memory)\n",
      "Data preprocessing and feature engineering runtime = 0.05s ...\n",
      "AutoGluon will gauge predictive performance using evaluation metric: 'accuracy'\n",
      "\tTo change this, specify the eval_metric parameter of Predictor()\n",
      "Automatically generating train/validation split with holdout_frac=0.2, Train Rows: 250, Val Rows: 63\n",
      "Fitting 13 L1 models ...\n",
      "Fitting model: KNeighborsUnif ...\n",
      "\t0.7302\t = Validation score   (accuracy)\n",
      "\t0.01s\t = Training   runtime\n",
      "\t0.01s\t = Validation runtime\n",
      "Fitting model: KNeighborsDist ...\n",
      "\t0.7302\t = Validation score   (accuracy)\n",
      "\t0.0s\t = Training   runtime\n",
      "\t0.01s\t = Validation runtime\n",
      "Fitting model: LightGBMXT ...\n",
      "\t0.8254\t = Validation score   (accuracy)\n",
      "\t0.35s\t = Training   runtime\n",
      "\t0.0s\t = Validation runtime\n",
      "Fitting model: LightGBM ...\n",
      "\t0.8095\t = Validation score   (accuracy)\n",
      "\t0.25s\t = Training   runtime\n",
      "\t0.0s\t = Validation runtime\n",
      "Fitting model: RandomForestGini ...\n",
      "\t0.7937\t = Validation score   (accuracy)\n",
      "\t0.39s\t = Training   runtime\n",
      "\t0.03s\t = Validation runtime\n",
      "Fitting model: RandomForestEntr ...\n",
      "\t0.7778\t = Validation score   (accuracy)\n",
      "\t0.34s\t = Training   runtime\n",
      "\t0.04s\t = Validation runtime\n",
      "Fitting model: CatBoost ...\n",
      "\t0.8571\t = Validation score   (accuracy)\n",
      "\t0.27s\t = Training   runtime\n",
      "\t0.0s\t = Validation runtime\n",
      "Fitting model: ExtraTreesGini ...\n",
      "\t0.8413\t = Validation score   (accuracy)\n",
      "\t0.33s\t = Training   runtime\n",
      "\t0.04s\t = Validation runtime\n",
      "Fitting model: ExtraTreesEntr ...\n",
      "\t0.8254\t = Validation score   (accuracy)\n",
      "\t0.33s\t = Training   runtime\n",
      "\t0.04s\t = Validation runtime\n",
      "Fitting model: NeuralNetFastAI ...\n",
      "No improvement since epoch 9: early stopping\n",
      "\t0.8413\t = Validation score   (accuracy)\n",
      "\t1.45s\t = Training   runtime\n",
      "\t0.01s\t = Validation runtime\n",
      "Fitting model: XGBoost ...\n",
      "\t0.8095\t = Validation score   (accuracy)\n",
      "\t0.15s\t = Training   runtime\n",
      "\t0.0s\t = Validation runtime\n",
      "Fitting model: NeuralNetTorch ...\n",
      "\t0.8413\t = Validation score   (accuracy)\n",
      "\t0.79s\t = Training   runtime\n",
      "\t0.01s\t = Validation runtime\n",
      "Fitting model: LightGBMLarge ...\n",
      "\t0.7937\t = Validation score   (accuracy)\n",
      "\t0.43s\t = Training   runtime\n",
      "\t0.0s\t = Validation runtime\n",
      "Fitting model: WeightedEnsemble_L2 ...\n",
      "\t0.873\t = Validation score   (accuracy)\n",
      "\t0.24s\t = Training   runtime\n",
      "\t0.0s\t = Validation runtime\n",
      "AutoGluon training complete, total runtime = 5.71s ... Best model: \"WeightedEnsemble_L2\"\n",
      "TabularPredictor saved. To load, use: predictor = TabularPredictor.load(\"AutogluonModels/ag-20221008_010027/\")\n"
     ]
    }
   ],
   "source": [
    "train_data = TabularDataset(train)\n",
    "predictor = TabularPredictor(label=\"Outcome\").fit(train_data)\n",
    "test_data = TabularDataset(test)\n",
    "predictions = predictor.predict(test_data)"
   ]
  },
  {
   "cell_type": "markdown",
   "id": "227e0491",
   "metadata": {},
   "source": [
    "### Utilizar la calidad pre-determinada \"best_quality\" y la métrica \"accuracy\""
   ]
  },
  {
   "cell_type": "code",
   "execution_count": 60,
   "id": "dcf9a563",
   "metadata": {},
   "outputs": [],
   "source": [
    "ag_accuracy_scorer = make_scorer(name='accuracy',\n",
    "                                 score_func=sklearn.metrics.accuracy_score,\n",
    "                                 optimum=1,\n",
    "                                 greater_is_better=True)"
   ]
  },
  {
   "cell_type": "markdown",
   "id": "185fa008",
   "metadata": {},
   "source": [
    "### Evaluar el rendimiento de los modelos entrenados, a través de la graficación del tablero de líderes \"leaderboard\", e indicar el mejor de los modelos."
   ]
  },
  {
   "cell_type": "code",
   "execution_count": 61,
   "id": "73bb8dad",
   "metadata": {},
   "outputs": [
    {
     "name": "stdout",
     "output_type": "stream",
     "text": [
      "                  model  score_test  score_val  pred_time_test  pred_time_val  fit_time  pred_time_test_marginal  pred_time_val_marginal  fit_time_marginal  stack_level  can_infer  fit_order\n",
      "0              CatBoost    0.822785   0.857143        0.003075       0.002644  0.270504                 0.003075                0.002644           0.270504            1       True          7\n",
      "1   WeightedEnsemble_L2    0.822785   0.873016        0.048279       0.039937  0.842188                 0.002166                0.000309           0.241565            2       True         14\n",
      "2        ExtraTreesEntr    0.797468   0.825397        0.049622       0.040103  0.328471                 0.049622                0.040103           0.328471            1       True          9\n",
      "3        NeuralNetTorch    0.784810   0.841270        0.006902       0.011201  0.785102                 0.006902                0.011201           0.785102            1       True         12\n",
      "4       NeuralNetFastAI    0.784810   0.841270        0.013475       0.011709  1.449871                 0.013475                0.011709           1.449871            1       True         10\n",
      "5        ExtraTreesGini    0.784810   0.841270        0.043039       0.036984  0.330118                 0.043039                0.036984           0.330118            1       True          8\n",
      "6            LightGBMXT    0.772152   0.825397        0.001664       0.001131  0.346377                 0.001664                0.001131           0.346377            1       True          3\n",
      "7         LightGBMLarge    0.772152   0.793651        0.003738       0.001894  0.432643                 0.003738                0.001894           0.432643            1       True         13\n",
      "8               XGBoost    0.772152   0.809524        0.004345       0.003799  0.154228                 0.004345                0.003799           0.154228            1       True         11\n",
      "9      RandomForestGini    0.772152   0.793651        0.039142       0.034511  0.387317                 0.039142                0.034511           0.387317            1       True          5\n",
      "10     RandomForestEntr    0.772152   0.777778        0.044579       0.035546  0.340588                 0.044579                0.035546           0.340588            1       True          6\n",
      "11             LightGBM    0.759494   0.809524        0.013076       0.001225  0.246905                 0.013076                0.001225           0.246905            1       True          4\n",
      "12       KNeighborsUnif    0.734177   0.730159        0.005316       0.012487  0.012976                 0.005316                0.012487           0.012976            1       True          1\n",
      "13       KNeighborsDist    0.734177   0.730159        0.005663       0.007164  0.004418                 0.005663                0.007164           0.004418            1       True          2\n"
     ]
    }
   ],
   "source": [
    "leaderboard = predictor.leaderboard(test_data)"
   ]
  },
  {
   "cell_type": "markdown",
   "id": "cde81f1a",
   "metadata": {},
   "source": [
    "El mejor modelo fue **CatBoost**, con un score test de 0.82, además de que fue uno de los más eficientes en tiempo de entrenamiento."
   ]
  },
  {
   "cell_type": "markdown",
   "id": "b08fe120",
   "metadata": {},
   "source": [
    "### Graficar la matriz de confusión"
   ]
  },
  {
   "cell_type": "code",
   "execution_count": 62,
   "id": "d51a239a",
   "metadata": {},
   "outputs": [
    {
     "data": {
      "image/png": "[encoded data removed]",
      "text/plain": [
       "<Figure size 432x288 with 2 Axes>"
      ]
     },
     "metadata": {
      "needs_background": "light"
     },
     "output_type": "display_data"
    }
   ],
   "source": [
    "confusion_matrix = sklearn.metrics.confusion_matrix(test_data['Outcome'], predictions)\n",
    "\n",
    "cm_display = sklearn.metrics.ConfusionMatrixDisplay(\n",
    "    confusion_matrix=confusion_matrix,\n",
    "    display_labels=[False, True])\n",
    "\n",
    "cm_display.plot()\n",
    "plt.show()"
   ]
  },
  {
   "cell_type": "markdown",
   "id": "bac26e7b",
   "metadata": {},
   "source": [
    "Como se ve en la matriz de confusión, el modelo tuvo ciertas carencias de precisión en la predicción, pues acertó en un 92% de los casos que no son de diabetes, pero solo un 60% de las veces en los que si eran casos de diabetes, lo cual es preocupante dado que a un 40% de los pacientes se les diagnosticaría no tener diabetes cuando en realidad si tienen. Si bien los falsos positivos también son importantes de identificar, no son tan peligrosos como los falsos negativos, pues de salir positivo se procede a realizar exámenes de verificación, pero es probable que al salir falso negativo se confien y no realicen más pruebas. \n",
    "\n",
    "Esto es algo que se refleja con el relativo bajo score de precisión del mejor modelo (0.82).\n",
    "\n",
    "Por lo tanto, se debería de procurar buscar alternativas de entrenamiento o incrementar los datos para obtener más resultados que brinden un diagnóstico más acertado para tomar acción temprano para los pacientes."
   ]
  }
 ],
 "metadata": {
  "kernelspec": {
   "display_name": "Python 3 (ipykernel)",
   "language": "python",
   "name": "python3"
  },
  "language_info": {
   "codemirror_mode": {
    "name": "ipython",
    "version": 3
   },
   "file_extension": ".py",
   "mimetype": "text/x-python",
   "name": "python",
   "nbconvert_exporter": "python",
   "pygments_lexer": "ipython3",
   "version": "3.9.5"
  }
 },
 "nbformat": 4,
 "nbformat_minor": 5
}
